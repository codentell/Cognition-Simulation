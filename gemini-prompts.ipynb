{
 "cells": [
  {
   "cell_type": "markdown",
   "metadata": {},
   "source": [
    "## Imports\n"
   ]
  },
  {
   "cell_type": "code",
   "execution_count": 13,
   "metadata": {},
   "outputs": [],
   "source": [
    "import os\n",
    "from supabase import create_client, Client\n",
    "from pathlib import Path\n",
    "import google.generativeai as genai\n",
    "from dotenv import load_dotenv"
   ]
  },
  {
   "cell_type": "markdown",
   "metadata": {},
   "source": [
    "## Get json from Supabase\n"
   ]
  },
  {
   "cell_type": "code",
   "execution_count": 20,
   "metadata": {},
   "outputs": [],
   "source": [
    "# Get keys and url for supabase\n",
    "url: str = os.environ.get(\"VITE_SUPABASE_URL\")\n",
    "key: str = os.environ.get(\"VITE_SUPABASE_KEY\")\n",
    "supabase: Client = create_client(url, key)"
   ]
  },
  {
   "cell_type": "code",
   "execution_count": 24,
   "metadata": {},
   "outputs": [
    {
     "data": {
      "text/plain": [
       "APIResponse[~_ReturnT](data=[{'id': 'cbcbc11d-a455-443d-8fc2-f4645be44460', 'user': {'seed': 'Over the past several years, advanced footwear has become an essential tool for runners to improve their fitness and performance. However, they have continued facing challenges with heat building up inside running shoes that can lead to sweating and blisters. This will not only produce more discomfort, but also prevent them from increasing speed and endurance due to lingering pain. Therefore, future innovations need to overcome these issues with advanced footwear to improve the lives of runners across the globe.', 'steps': {'problem or task representation': 'present a task to be engaged in or a problem to be solved. Pose this yourself', 'preparation': 'build up or reactivate a store of information relevant to the problem or task, including a knowledge of response algorithms for working problems in the domain in question.', 'generation': 'generate response possibilities by searching through the available pathways and exploring features of the environment that are relevant to the task at hand.', 'validation': '\\ntest response possibility for correctness or appropriateness against factual knowledge and relevant criteria.', 'outcome': 'assess if the test has been passed perfectly—if there is complete attainment of the original goal—the process terminates. If there is complete failure—if no reasonable response possibility has been generated—the process will also terminate. If there is some progress toward the goal—if at least a reasonable response possibility has been generated or if there is some evidence of \"getting warmer\"—the process returns to the first stage, where the problem is once again posed.'}, 'metric': 'highly critical judgement', 'iters': 10}, 'timestamp': '2024-12-27T06:07:33.004676+00:00'}], count=None)"
      ]
     },
     "execution_count": 24,
     "metadata": {},
     "output_type": "execute_result"
    }
   ],
   "source": [
    "response = supabase.table(\"users\").select(\"*\").execute()"
   ]
  },
  {
   "cell_type": "markdown",
   "metadata": {},
   "source": [
    "### Sort responses based on last push to database\n"
   ]
  },
  {
   "cell_type": "code",
   "execution_count": 29,
   "metadata": {},
   "outputs": [
    {
     "data": {
      "text/plain": [
       "[{'id': 'cbcbc11d-a455-443d-8fc2-f4645be44460',\n",
       "  'user': {'seed': 'Over the past several years, advanced footwear has become an essential tool for runners to improve their fitness and performance. However, they have continued facing challenges with heat building up inside running shoes that can lead to sweating and blisters. This will not only produce more discomfort, but also prevent them from increasing speed and endurance due to lingering pain. Therefore, future innovations need to overcome these issues with advanced footwear to improve the lives of runners across the globe.',\n",
       "   'steps': {'problem or task representation': 'present a task to be engaged in or a problem to be solved. Pose this yourself',\n",
       "    'preparation': 'build up or reactivate a store of information relevant to the problem or task, including a knowledge of response algorithms for working problems in the domain in question.',\n",
       "    'generation': 'generate response possibilities by searching through the available pathways and exploring features of the environment that are relevant to the task at hand.',\n",
       "    'validation': '\\ntest response possibility for correctness or appropriateness against factual knowledge and relevant criteria.',\n",
       "    'outcome': 'assess if the test has been passed perfectly—if there is complete attainment of the original goal—the process terminates. If there is complete failure—if no reasonable response possibility has been generated—the process will also terminate. If there is some progress toward the goal—if at least a reasonable response possibility has been generated or if there is some evidence of \"getting warmer\"—the process returns to the first stage, where the problem is once again posed.'},\n",
       "   'metric': 'highly critical judgement',\n",
       "   'iters': 10},\n",
       "  'timestamp': '2024-12-27T06:07:33.004676+00:00'}]"
      ]
     },
     "execution_count": 29,
     "metadata": {},
     "output_type": "execute_result"
    }
   ],
   "source": [
    "responses = sorted(response.data, key=lambda x: x['timestamp'])\n",
    "responses"
   ]
  },
  {
   "cell_type": "code",
   "execution_count": null,
   "metadata": {},
   "outputs": [],
   "source": [
    "# Loads key from .env, make sure key is named <GEMINI_KEY> in .env\n",
    "load_dotenv()\n",
    "load_dotenv(verbose=True)\n",
    "env_path = Path('.') / '.env'\n",
    "load_dotenv(dotenv_path=env_path)\n",
    "key = os.environ.get('GEMINI_KEY')\n",
    "\n",
    "# Prompts gemini 2.0\n",
    "genai.configure(api_key=key)\n",
    "model = genai.GenerativeModel(\"gemini-2.0-flash-exp\")\n",
    "response = model.generate_content(\n",
    "    \"Explain how AI works, limit response to 1 sentence and a max of 100 characters\")\n",
    "print(response.text)"
   ]
  }
 ],
 "metadata": {
  "kernelspec": {
   "display_name": "mana",
   "language": "python",
   "name": "python3"
  },
  "language_info": {
   "codemirror_mode": {
    "name": "ipython",
    "version": 3
   },
   "file_extension": ".py",
   "mimetype": "text/x-python",
   "name": "python",
   "nbconvert_exporter": "python",
   "pygments_lexer": "ipython3",
   "version": "3.11.8"
  }
 },
 "nbformat": 4,
 "nbformat_minor": 2
}
