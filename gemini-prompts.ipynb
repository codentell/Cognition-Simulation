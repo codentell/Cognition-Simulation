{
 "cells": [
  {
   "cell_type": "markdown",
   "metadata": {},
   "source": [
    "## Imports\n"
   ]
  },
  {
   "cell_type": "code",
   "execution_count": 42,
   "metadata": {},
   "outputs": [],
   "source": [
    "import os\n",
    "from supabase import create_client, Client\n",
    "from pathlib import Path\n",
    "import google.generativeai as genai\n",
    "from dotenv import load_dotenv\n",
    "import pandas as pd"
   ]
  },
  {
   "cell_type": "markdown",
   "metadata": {},
   "source": [
    "## Get json from Supabase\n"
   ]
  },
  {
   "cell_type": "code",
   "execution_count": 20,
   "metadata": {},
   "outputs": [],
   "source": [
    "# Get keys and url for supabase\n",
    "url: str = os.environ.get(\"VITE_SUPABASE_URL\")\n",
    "key: str = os.environ.get(\"VITE_SUPABASE_KEY\")\n",
    "supabase: Client = create_client(url, key)"
   ]
  },
  {
   "cell_type": "code",
   "execution_count": 24,
   "metadata": {},
   "outputs": [
    {
     "data": {
      "text/plain": [
       "APIResponse[~_ReturnT](data=[{'id': 'cbcbc11d-a455-443d-8fc2-f4645be44460', 'user': {'seed': 'Over the past several years, advanced footwear has become an essential tool for runners to improve their fitness and performance. However, they have continued facing challenges with heat building up inside running shoes that can lead to sweating and blisters. This will not only produce more discomfort, but also prevent them from increasing speed and endurance due to lingering pain. Therefore, future innovations need to overcome these issues with advanced footwear to improve the lives of runners across the globe.', 'steps': {'problem or task representation': 'present a task to be engaged in or a problem to be solved. Pose this yourself', 'preparation': 'build up or reactivate a store of information relevant to the problem or task, including a knowledge of response algorithms for working problems in the domain in question.', 'generation': 'generate response possibilities by searching through the available pathways and exploring features of the environment that are relevant to the task at hand.', 'validation': '\\ntest response possibility for correctness or appropriateness against factual knowledge and relevant criteria.', 'outcome': 'assess if the test has been passed perfectly—if there is complete attainment of the original goal—the process terminates. If there is complete failure—if no reasonable response possibility has been generated—the process will also terminate. If there is some progress toward the goal—if at least a reasonable response possibility has been generated or if there is some evidence of \"getting warmer\"—the process returns to the first stage, where the problem is once again posed.'}, 'metric': 'highly critical judgement', 'iters': 10}, 'timestamp': '2024-12-27T06:07:33.004676+00:00'}], count=None)"
      ]
     },
     "execution_count": 24,
     "metadata": {},
     "output_type": "execute_result"
    }
   ],
   "source": [
    "response = supabase.table(\"users\").select(\"*\").execute()"
   ]
  },
  {
   "cell_type": "markdown",
   "metadata": {},
   "source": [
    "### Sort responses based on last push to database\n"
   ]
  },
  {
   "cell_type": "code",
   "execution_count": 29,
   "metadata": {},
   "outputs": [
    {
     "data": {
      "text/plain": [
       "[{'id': 'cbcbc11d-a455-443d-8fc2-f4645be44460',\n",
       "  'user': {'seed': 'Over the past several years, advanced footwear has become an essential tool for runners to improve their fitness and performance. However, they have continued facing challenges with heat building up inside running shoes that can lead to sweating and blisters. This will not only produce more discomfort, but also prevent them from increasing speed and endurance due to lingering pain. Therefore, future innovations need to overcome these issues with advanced footwear to improve the lives of runners across the globe.',\n",
       "   'steps': {'problem or task representation': 'present a task to be engaged in or a problem to be solved. Pose this yourself',\n",
       "    'preparation': 'build up or reactivate a store of information relevant to the problem or task, including a knowledge of response algorithms for working problems in the domain in question.',\n",
       "    'generation': 'generate response possibilities by searching through the available pathways and exploring features of the environment that are relevant to the task at hand.',\n",
       "    'validation': '\\ntest response possibility for correctness or appropriateness against factual knowledge and relevant criteria.',\n",
       "    'outcome': 'assess if the test has been passed perfectly—if there is complete attainment of the original goal—the process terminates. If there is complete failure—if no reasonable response possibility has been generated—the process will also terminate. If there is some progress toward the goal—if at least a reasonable response possibility has been generated or if there is some evidence of \"getting warmer\"—the process returns to the first stage, where the problem is once again posed.'},\n",
       "   'metric': 'highly critical judgement',\n",
       "   'iters': 10},\n",
       "  'timestamp': '2024-12-27T06:07:33.004676+00:00'}]"
      ]
     },
     "execution_count": 29,
     "metadata": {},
     "output_type": "execute_result"
    }
   ],
   "source": [
    "responses = sorted(response.data, key=lambda x: x['timestamp'])\n",
    "responses"
   ]
  },
  {
   "cell_type": "code",
   "execution_count": 37,
   "metadata": {},
   "outputs": [
    {
     "name": "stdout",
     "output_type": "stream",
     "text": [
      "problem or task representation present a task to be engaged in or a problem to be solved. Pose this yourself\n",
      "preparation build up or reactivate a store of information relevant to the problem or task, including a knowledge of response algorithms for working problems in the domain in question.\n",
      "generation generate response possibilities by searching through the available pathways and exploring features of the environment that are relevant to the task at hand.\n",
      "validation \n",
      "test response possibility for correctness or appropriateness against factual knowledge and relevant criteria.\n",
      "outcome assess if the test has been passed perfectly—if there is complete attainment of the original goal—the process terminates. If there is complete failure—if no reasonable response possibility has been generated—the process will also terminate. If there is some progress toward the goal—if at least a reasonable response possibility has been generated or if there is some evidence of \"getting warmer\"—the process returns to the first stage, where the problem is once again posed.\n"
     ]
    }
   ],
   "source": [
    "responses[0]\n",
    "\n",
    "crit_label = \"useful\"\n",
    "crit_def = 'degree to which something is valuable, helpful, or solves a problem.'\n",
    "\n",
    "\n",
    "for k, v in responses[0]['user']['steps'].items():\n",
    "\n",
    "    EVAL_STRING = prompt = (\n",
    "        f\"Based on the definition of '{crit_label}' — {crit_def} — \"\n",
    "        f\"rate the following {k} ({simulation[i][k]}) \"\n",
    "        f\"Use highly critical judgement and the entire range of this scale: \"\n",
    "        f\"1 (very low {crit_label}), \"\n",
    "        f\"2 (low {crit_label}), \"\n",
    "        f\"3 (slightly low {crit_label}), \"\n",
    "        f\"4 (moderate {crit_label}), \"\n",
    "        f\"5 (slightly high {crit_label}), \"\n",
    "        f\"6 (high {crit_label}), \"\n",
    "        f\"7 (very high {crit_label}). \"\n",
    "        f\"Respond with ONLY a single number for an overall rating and absolutely no additional text or explanation.\"\n",
    "    )"
   ]
  },
  {
   "cell_type": "code",
   "execution_count": 51,
   "metadata": {},
   "outputs": [],
   "source": [
    "# Loads key from .env, make sure key is named <GEMINI_KEY> in .env\n",
    "load_dotenv()\n",
    "load_dotenv(verbose=True)\n",
    "env_path = Path('.') / '.env'\n",
    "load_dotenv(dotenv_path=env_path)\n",
    "key = os.environ.get('GEMINI_KEY')\n",
    "genai.configure(api_key=key)\n",
    "model = genai.GenerativeModel(\"gemini-2.0-flash-exp\")"
   ]
  },
  {
   "cell_type": "code",
   "execution_count": null,
   "metadata": {},
   "outputs": [],
   "source": [
    "response = model.generate_content(\n",
    "    \"Explain how AI works, limit response to 1 sentence and a max of 100 characters\")\n",
    "print(response.text)"
   ]
  },
  {
   "cell_type": "markdown",
   "metadata": {},
   "source": [
    "- use seed for first step\n",
    "- for steps 2 - n, use previous llm response as context\n",
    "- pass instructions for current step\n"
   ]
  },
  {
   "cell_type": "code",
   "execution_count": 93,
   "metadata": {},
   "outputs": [
    {
     "data": {
      "text/html": [
       "<div>\n",
       "<style scoped>\n",
       "    .dataframe tbody tr th:only-of-type {\n",
       "        vertical-align: middle;\n",
       "    }\n",
       "\n",
       "    .dataframe tbody tr th {\n",
       "        vertical-align: top;\n",
       "    }\n",
       "\n",
       "    .dataframe thead th {\n",
       "        text-align: right;\n",
       "    }\n",
       "</style>\n",
       "<table border=\"1\" class=\"dataframe\">\n",
       "  <thead>\n",
       "    <tr style=\"text-align: right;\">\n",
       "      <th></th>\n",
       "      <th>seed</th>\n",
       "      <th>problem or task representation</th>\n",
       "      <th>preparation</th>\n",
       "      <th>generation</th>\n",
       "      <th>validation</th>\n",
       "      <th>outcome</th>\n",
       "    </tr>\n",
       "  </thead>\n",
       "  <tbody>\n",
       "    <tr>\n",
       "      <th>0</th>\n",
       "      <td>Over the past several years, advanced footwear...</td>\n",
       "      <td>Over the past several years, advanced footwear...</td>\n",
       "      <td>NaN</td>\n",
       "      <td>NaN</td>\n",
       "      <td>NaN</td>\n",
       "      <td>NaN</td>\n",
       "    </tr>\n",
       "  </tbody>\n",
       "</table>\n",
       "</div>"
      ],
      "text/plain": [
       "                                                seed  \\\n",
       "0  Over the past several years, advanced footwear...   \n",
       "\n",
       "                      problem or task representation preparation generation  \\\n",
       "0  Over the past several years, advanced footwear...         NaN        NaN   \n",
       "\n",
       "  validation outcome  \n",
       "0        NaN     NaN  "
      ]
     },
     "execution_count": 93,
     "metadata": {},
     "output_type": "execute_result"
    }
   ],
   "source": [
    "seed = responses[0]['user']['seed']\n",
    "cols = list(responses[0]['user']['steps'].keys())\n",
    "cols.insert(0, \"seed\")\n",
    "df = pd.DataFrame(columns=cols)\n",
    "for i in range(responses[0]['user']['iters']):\n",
    "    new_row = pd.DataFrame(\n",
    "        [{'seed': seed, 'problem or task representation': seed}])\n",
    "    df = pd.concat([df, new_row], ignore_index=True)\n",
    "df.head(1)"
   ]
  },
  {
   "cell_type": "code",
   "execution_count": 95,
   "metadata": {},
   "outputs": [
    {
     "data": {
      "text/plain": [
       "(10, 6)"
      ]
     },
     "execution_count": 95,
     "metadata": {},
     "output_type": "execute_result"
    }
   ],
   "source": [
    "df.shape"
   ]
  },
  {
   "cell_type": "code",
   "execution_count": null,
   "metadata": {},
   "outputs": [],
   "source": [
    "for row in range(df.shape[0]):\n",
    "    for col in range(df.shape[1]):\n",
    "        if col == 0 or col == 1:\n",
    "            continue\n",
    "        label = responses[0]['user']['steps'][df.columns[col]]\n",
    "        prompt = (\n",
    "            f\"Given information about the following {str.upper(df.iloc[row, col-1])}\"\n",
    "            f\"Step {str.upper(df.columns[col])}: {label} Please respond with ONLY the {df.columns[col]} step and absolutely no additional text or explanation.\"\n",
    "        )\n",
    "        genai.configure(api_key=key)\n",
    "        model = genai.GenerativeModel(\"gemini-2.0-flash-exp\")\n",
    "        response = model.generate_content(prompt,\n",
    "                                          generation_config=genai.types.GenerationConfig(\n",
    "                                              temperature=1.0,))\n",
    "        df.iloc[row, col] = response.text\n",
    "    if row > 1:\n",
    "        break"
   ]
  },
  {
   "cell_type": "code",
   "execution_count": 110,
   "metadata": {},
   "outputs": [],
   "source": [
    "pd.set_option('display.max_colwidth', None)\n",
    "df.to_csv('sample.csv', index=False)"
   ]
  }
 ],
 "metadata": {
  "kernelspec": {
   "display_name": "mana",
   "language": "python",
   "name": "python3"
  },
  "language_info": {
   "codemirror_mode": {
    "name": "ipython",
    "version": 3
   },
   "file_extension": ".py",
   "mimetype": "text/x-python",
   "name": "python",
   "nbconvert_exporter": "python",
   "pygments_lexer": "ipython3",
   "version": "3.11.8"
  }
 },
 "nbformat": 4,
 "nbformat_minor": 2
}
